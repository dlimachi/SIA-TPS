{
 "cells": [
  {
   "cell_type": "code",
   "execution_count": 23,
   "id": "318b948e-6e03-4c0e-8068-d3722c4e4204",
   "metadata": {},
   "outputs": [],
   "source": [
    "import os\n",
    "import json\n",
    "from src.catching import attempt_catch\n",
    "from src.pokemon import PokemonFactory, StatusEffect\n",
    "import plotly.express as px\n",
    "import pandas as pd\n",
    "\n",
    "N = 100"
   ]
  },
  {
   "cell_type": "code",
   "execution_count": 24,
   "id": "4c10584b-1729-48dc-84c6-a2c453cf612f",
   "metadata": {},
   "outputs": [],
   "source": [
    "def initialize(filePath):\n",
    "    factory = PokemonFactory(\"pokemon.json\")\n",
    "    \n",
    "    with open(filePath, \"r\") as file:\n",
    "        config = json.load(file)\n",
    "\n",
    "    LEVEL = config[\"level\"]\n",
    "    STATUS = StatusEffect[config[\"status\"]]\n",
    "    HP_PERCENTAGE = config[\"hp_percentage\"]\n",
    "\n",
    "    jolteon = factory.create(\"jolteon\", LEVEL, STATUS, HP_PERCENTAGE)\n",
    "    caterpie = factory.create(\"caterpie\", LEVEL, STATUS, HP_PERCENTAGE)\n",
    "    snorlax = factory.create(\"snorlax\", LEVEL, STATUS, HP_PERCENTAGE)\n",
    "    onix = factory.create(\"onix\", LEVEL, STATUS, HP_PERCENTAGE)\n",
    "    mewtwo = factory.create(\"mewtwo\", LEVEL, STATUS, HP_PERCENTAGE)\n",
    "\n",
    "    pokemons = [jolteon, caterpie, snorlax, onix, mewtwo]\n",
    "    pokeballs = [\"pokeball\", \"ultraball\", \"fastball\", \"heavyball\"]\n",
    "\n",
    "    return (pokemons, pokeballs)"
   ]
  },
  {
   "cell_type": "markdown",
   "id": "ba7c7337-423c-416a-b315-d93896c75ee5",
   "metadata": {},
   "source": [
    "Ejercicio 1A. Ejecutando la función 100 veces, para cada Pokemon en condiciones ideales \n",
    "¿Cuál es la probabilidad de captura promedio para cada pokebola?\n",
    "\n",
    "La idea es inicializar las propiedades de cada pokemon en sus condiciones ideales, es decir, la vida y su nivel al máximo y sin estado.\n",
    "Una vez creados los pokemones y pokebolas, realizamos lo siguiente:\n",
    "1. Por cada pokemon y pokebola realizamos un intento de captura.\n",
    "2. Agregamos al DataFrame 'df' los datos conseguidos en una tabla con columnas 'pokemon', 'pokeball', 'success' simbolizando si fue capturado o no."
   ]
  },
  {
   "cell_type": "code",
   "execution_count": 25,
   "id": "55880558-8e23-492e-b094-a0cf6f37fbe0",
   "metadata": {
    "scrolled": true
   },
   "outputs": [],
   "source": [
    "pokemons, pokeballs = initialize(\"config/ejercicio1a-config.json\")\n",
    "\n",
    "# Creamos y llenamos el DataFrame\n",
    "df = pd.DataFrame(columns=['pokemon', 'pokeball', 'success'])\n",
    "for pokemon in pokemons:\n",
    "    for pokeball in pokeballs:\n",
    "        for _ in range(N):\n",
    "            success, _ = attempt_catch(pokemon, pokeball)\n",
    "            new_row = {'pokemon': pokemon.name, 'pokeball': pokeball, 'success': success}\n",
    "            df.loc[len(df)] = new_row\n",
    "\n",
    "# Calcular la media de atrapadas para cada Pokémon y pokebola.\n",
    "media_por_pokeball_pokemon = df.groupby(['pokeball', 'pokemon'])['success'].mean().reset_index()\n",
    "    \n",
    "# Media para cada pokemon.\n",
    "media_por_pokeball = df.groupby(['pokeball'])['success'].mean().reset_index() "
   ]
  },
  {
   "cell_type": "markdown",
   "id": "f92f0465-bb4a-4cc9-bf01-82f28039788f",
   "metadata": {},
   "source": [
    "Para no perder datos, y además, poder comparar la eficiencia de cada pokebola según el pokemon a atrapar, \n",
    "agrupamos los datos en según la pokebola y el pokemon\n",
    "Obtenemos la media de atrapadas para cada pokemon según la pokebola utilizada. "
   ]
  },
  {
   "cell_type": "code",
   "execution_count": null,
   "id": "2d7982b1-0401-49d1-9c0e-e4e0f3bf7b80",
   "metadata": {
    "scrolled": true
   },
   "outputs": [],
   "source": [
    "media_por_pokemon_pokeball"
   ]
  },
  {
   "cell_type": "markdown",
   "id": "d7524d3d-3e9b-4de3-9e9c-36183cf32f57",
   "metadata": {},
   "source": [
    "Luego, y para responder el ejercicio calculamos el promedio de atrapadas de cada pokebola."
   ]
  },
  {
   "cell_type": "code",
   "execution_count": 26,
   "id": "a30d4a5c-4334-4ebd-bfd2-cd0437b595fb",
   "metadata": {},
   "outputs": [
    {
     "data": {
      "text/html": [
       "<div>\n",
       "<style scoped>\n",
       "    .dataframe tbody tr th:only-of-type {\n",
       "        vertical-align: middle;\n",
       "    }\n",
       "\n",
       "    .dataframe tbody tr th {\n",
       "        vertical-align: top;\n",
       "    }\n",
       "\n",
       "    .dataframe thead th {\n",
       "        text-align: right;\n",
       "    }\n",
       "</style>\n",
       "<table border=\"1\" class=\"dataframe\">\n",
       "  <thead>\n",
       "    <tr style=\"text-align: right;\">\n",
       "      <th></th>\n",
       "      <th>pokeball</th>\n",
       "      <th>success</th>\n",
       "    </tr>\n",
       "  </thead>\n",
       "  <tbody>\n",
       "    <tr>\n",
       "      <th>0</th>\n",
       "      <td>fastball</td>\n",
       "      <td>0.114</td>\n",
       "    </tr>\n",
       "    <tr>\n",
       "      <th>1</th>\n",
       "      <td>heavyball</td>\n",
       "      <td>0.100</td>\n",
       "    </tr>\n",
       "    <tr>\n",
       "      <th>2</th>\n",
       "      <td>pokeball</td>\n",
       "      <td>0.090</td>\n",
       "    </tr>\n",
       "    <tr>\n",
       "      <th>3</th>\n",
       "      <td>ultraball</td>\n",
       "      <td>0.190</td>\n",
       "    </tr>\n",
       "  </tbody>\n",
       "</table>\n",
       "</div>"
      ],
      "text/plain": [
       "    pokeball  success\n",
       "0   fastball    0.114\n",
       "1  heavyball    0.100\n",
       "2   pokeball    0.090\n",
       "3  ultraball    0.190"
      ]
     },
     "execution_count": 26,
     "metadata": {},
     "output_type": "execute_result"
    }
   ],
   "source": [
    "media_por_pokeball"
   ]
  },
  {
   "cell_type": "markdown",
   "id": "ac9ddf53-52c7-4505-9d03-11ef2f69c62f",
   "metadata": {},
   "source": [
    "***AGREGAR CONCLUSIÓN***"
   ]
  },
  {
   "cell_type": "code",
   "execution_count": null,
   "id": "ea004846-8d6d-4800-9921-fe2b72619d94",
   "metadata": {},
   "outputs": [],
   "source": [
    "def ejercicio1b():\n",
    "    pokemons, pokeballs = initialize(\"config/ejercicio1b-config.json\")\n",
    "\n",
    "    # Creamos y llenamos el DataFrame\n",
    "    df = pd.DataFrame(columns=['pokemon', 'pokeball', 'success'])\n",
    "    for pokemon in pokemons:\n",
    "        for pokeball in pokeballs:\n",
    "            for _ in range(N):\n",
    "                success, _ = attempt_catch(pokemon, pokeball)\n",
    "                new_row = {'pokemon': pokemon.name, 'pokeball': pokeball, 'success': success}\n",
    "                df.loc[len(df)] = new_row\n",
    "\n",
    "    # Calcular la media de atrapadas para cada Pokémon\n",
    "    media_por_pokemon = df.groupby('pokemon')['success'].mean().reset_index()\n",
    "\n",
    "    # Calculamos la media de atrapadas para cada pokemon con la pokebola basica.\n",
    "    base_pokeball = df[df.pokeball == 'pokeball']\n",
    "    media_base_pokeball = base_pokeball.groupby('pokemon')['success'].mean()\n",
    "\n",
    "    media_por_pokemon = pd.DataFrame()\n",
    "    for pokeball in pokeballs:\n",
    "        if pokeball != 'pokeball':\n",
    "            current_ball_serie = df[df.pokeball == pokeball]\n",
    "            media_current_ball = current_ball_serie.groupby('pokemon')['success'].mean() / media_base_pokeball\n",
    "            media_current_ball = media_current_ball.reset_index()  # Reiniciar el índice aquí\n",
    "            if media_por_pokemon.empty:\n",
    "                media_por_pokemon = media_current_ball\n",
    "            else:\n",
    "                media_por_pokemon = media_por_pokemon.merge(media_current_ball, on='pokemon')   # Agregamos la nueva columna ('ultraball' o la que sea)\n",
    "\n",
    "    # Establecer el índice nuevamente en 'pokemon'\n",
    "    media_por_pokemon.columns = ['pokemon', 'ultraball', 'fastball', 'heavyball']\n",
    "\n",
    "    # Graficar\n",
    "    fig = px.bar(media_por_pokemon, x='pokemon', y=['ultraball', 'fastball', 'heavyball'],\n",
    "                title='Media de Atrapadas para Cada Pokémon con Diferentes Tipos de Pokeballs',\n",
    "                labels={'value': 'Media de Atrapadas', 'variable': 'Tipo de Pokeball'}, \n",
    "                barmode='group')\n",
    "\n",
    "    # Mostrar el gráfico\n",
    "    fig.show()\n"
   ]
  },
  {
   "cell_type": "code",
   "execution_count": null,
   "id": "44307ffc-fa73-491b-b08a-d4bb4cdb3579",
   "metadata": {},
   "outputs": [],
   "source": [
    "def graph(df):\n",
    "    # Graficar\n",
    "    fig = px.bar(media_por_pokemon, x='pokemon', y=['ultraball', 'fastball', 'heavyball'],\n",
    "                title='Media de Atrapadas para Cada Pokémon con Diferentes Tipos de Pokeballs',\n",
    "                labels={'value': 'Media de Atrapadas', 'variable': 'Tipo de Pokeball'}, \n",
    "                barmode='group')\n",
    "\n",
    "    # Mostrar el gráfico\n",
    "    fig.show()"
   ]
  },
  {
   "cell_type": "code",
   "execution_count": null,
   "id": "fdf19e81-a81c-4654-b636-fbc2fa6a8b34",
   "metadata": {
    "scrolled": true
   },
   "outputs": [],
   "source": [
    "ejercicio1a()\n",
    "ejercicio1b()"
   ]
  },
  {
   "cell_type": "code",
   "execution_count": null,
   "id": "26dd302c-8d39-44cc-a739-19cf4128cfd2",
   "metadata": {},
   "outputs": [],
   "source": []
  }
 ],
 "metadata": {
  "kernelspec": {
   "display_name": "Python 3 (ipykernel)",
   "language": "python",
   "name": "python3"
  },
  "language_info": {
   "codemirror_mode": {
    "name": "ipython",
    "version": 3
   },
   "file_extension": ".py",
   "mimetype": "text/x-python",
   "name": "python",
   "nbconvert_exporter": "python",
   "pygments_lexer": "ipython3",
   "version": "3.11.0"
  }
 },
 "nbformat": 4,
 "nbformat_minor": 5
}
